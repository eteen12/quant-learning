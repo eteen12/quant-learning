{
 "cells": [
  {
   "cell_type": "markdown",
   "id": "7474c85e",
   "metadata": {},
   "source": [
    "## What are the odds of each color in european roulette"
   ]
  },
  {
   "cell_type": "code",
   "execution_count": 4,
   "id": "44a17121",
   "metadata": {},
   "outputs": [],
   "source": [
    "import numpy as np \n",
    "import matplotlib.pyplot as plt \n",
    "from scipy import stats\n"
   ]
  },
  {
   "cell_type": "code",
   "execution_count": 51,
   "id": "a1d2b1a7",
   "metadata": {},
   "outputs": [
    {
     "name": "stdout",
     "output_type": "stream",
     "text": [
      "Odds of winning in roulette by betting on red or black only: 48.65%\n",
      "Odds of winning on roulette by betting on green only:  2.70%\n"
     ]
    }
   ],
   "source": [
    "## 18 red, 18 black, 1 green\n",
    "total = 37\n",
    "red = black = 18 / total\n",
    "green = 1 / total\n",
    "print(f'Odds of winning in roulette by betting on red or black only: {red*100:.2f}%')\n",
    "print(f'Odds of winning on roulette by betting on green only:  {green*100:.2f}%')"
   ]
  },
  {
   "cell_type": "code",
   "execution_count": 241,
   "id": "e06f28b6",
   "metadata": {},
   "outputs": [],
   "source": [
    "from collections import Counter\n",
    "\n",
    "\n",
    "def wheel_spin():\n",
    "    outcomes = np.random.choice(['red', 'black', 'green'], size=1, p=[red, black, green] )\n",
    "\n",
    "    counts = Counter(outcomes)\n",
    "    maxfreq = max(counts.values())\n",
    "    mode = [color for color, count in counts.items() if count == maxfreq]\n",
    "    clean_mode = str(mode[0])\n",
    "\n",
    "    return clean_mode\n"
   ]
  },
  {
   "cell_type": "markdown",
   "id": "833c77fa",
   "metadata": {},
   "source": [
    "## Make game"
   ]
  },
  {
   "cell_type": "code",
   "execution_count": 255,
   "id": "78de099f",
   "metadata": {},
   "outputs": [
    {
     "name": "stdout",
     "output_type": "stream",
     "text": [
      "CASH = $ 1000\n",
      "You lost your new bankroll is: 800\n",
      "CASH = $ 800\n"
     ]
    },
    {
     "ename": "ValueError",
     "evalue": "invalid literal for int() with base 10: ''",
     "output_type": "error",
     "traceback": [
      "\u001b[31m---------------------------------------------------------------------------\u001b[39m",
      "\u001b[31mValueError\u001b[39m                                Traceback (most recent call last)",
      "\u001b[36mCell\u001b[39m\u001b[36m \u001b[39m\u001b[32mIn[255]\u001b[39m\u001b[32m, line 12\u001b[39m\n\u001b[32m     10\u001b[39m \u001b[38;5;28mprint\u001b[39m(\u001b[33mf\u001b[39m\u001b[33m'\u001b[39m\u001b[33mCASH = $\u001b[39m\u001b[33m'\u001b[39m,bankroll)\n\u001b[32m     11\u001b[39m game_bet = \u001b[38;5;28mstr\u001b[39m(\u001b[38;5;28minput\u001b[39m(\u001b[33m'\u001b[39m\u001b[33mEnter the color your betting on: \u001b[39m\u001b[33m'\u001b[39m))\n\u001b[32m---> \u001b[39m\u001b[32m12\u001b[39m cash_bet = \u001b[38;5;28;43mint\u001b[39;49m\u001b[43m(\u001b[49m\u001b[38;5;28;43minput\u001b[39;49m\u001b[43m(\u001b[49m\u001b[33;43m'\u001b[39;49m\u001b[33;43mEnter your bet amount: \u001b[39;49m\u001b[33;43m'\u001b[39;49m\u001b[43m)\u001b[49m\u001b[43m)\u001b[49m\n\u001b[32m     14\u001b[39m \u001b[38;5;28;01mif\u001b[39;00m cash_bet > bankroll:\n\u001b[32m     15\u001b[39m     \u001b[38;5;28mprint\u001b[39m(\u001b[33mf\u001b[39m\u001b[33m'\u001b[39m\u001b[33mYou only have $\u001b[39m\u001b[38;5;132;01m{\u001b[39;00mbankroll\u001b[38;5;132;01m}\u001b[39;00m\u001b[33m, please try again\u001b[39m\u001b[33m'\u001b[39m)\n",
      "\u001b[31mValueError\u001b[39m: invalid literal for int() with base 10: ''"
     ]
    }
   ],
   "source": [
    "bankroll = 1000\n",
    "game_bet = ''\n",
    "cash_bet = 0\n",
    "## Have user make a bet on black red or green\n",
    "## Have the computer choose a random one based on the probibility\n",
    "\n",
    "multiplier = {'red': 2, 'black':2, 'green':35}\n",
    "\n",
    "while bankroll >= 0:\n",
    "    print(f'CASH = $',bankroll)\n",
    "    game_bet = str(input('Enter the color your betting on: '))\n",
    "    cash_bet = int(input('Enter your bet amount: '))\n",
    "\n",
    "    if cash_bet > bankroll:\n",
    "        print(f'You only have ${bankroll}, please try again')\n",
    "        continue\n",
    "\n",
    "    if game_bet not in multiplier:\n",
    "        print(\"not valid bet try again\")\n",
    "        continue\n",
    "\n",
    "    if game_bet == wheel_spin():\n",
    "        profit = cash_bet * (multiplier[game_bet] - 1)\n",
    "        bankroll += profit\n",
    "        print(f'You won! Your new bankroll is: {bankroll}')\n",
    "    else:\n",
    "        bankroll -= cash_bet\n",
    "        print(f'You lost your new bankroll is: {bankroll}')\n",
    "\n",
    "\n",
    "\n",
    "\n",
    "\n"
   ]
  }
 ],
 "metadata": {
  "kernelspec": {
   "display_name": "venv",
   "language": "python",
   "name": "python3"
  },
  "language_info": {
   "codemirror_mode": {
    "name": "ipython",
    "version": 3
   },
   "file_extension": ".py",
   "mimetype": "text/x-python",
   "name": "python",
   "nbconvert_exporter": "python",
   "pygments_lexer": "ipython3",
   "version": "3.12.3"
  }
 },
 "nbformat": 4,
 "nbformat_minor": 5
}
