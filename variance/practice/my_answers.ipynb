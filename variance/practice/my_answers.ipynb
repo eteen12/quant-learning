{
 "cells": [
  {
   "cell_type": "markdown",
   "metadata": {
    "deletable": true,
    "editable": true
   },
   "source": [
    "# Exercises: Variance\n",
    "By Christopher van Hoecke, Maxwell Margenot, and Delaney Mackenzie\n",
    "\n",
    "## Lecture Link :\n",
    "https://www.quantopian.com/lectures/variance\n",
    "\n",
    "### IMPORTANT NOTE: \n",
    "This lecture corresponds to the Variance lecture, which is part of the Quantopian lecture series. This homework expects you to rely heavily on the code presented in the corresponding lecture. Please copy and paste regularly from that lecture when starting to work on the problems, as trying to do them from scratch will likely be too difficult.\n",
    "\n",
    "Part of the Quantopian Lecture Series:\n",
    "\n",
    "* [www.quantopian.com/lectures](https://www.quantopian.com/lectures)\n",
    "* [github.com/quantopian/research_public](https://github.com/quantopian/research_public)\n",
    "\n",
    "-----"
   ]
  },
  {
   "cell_type": "code",
   "execution_count": 5,
   "metadata": {
    "collapsed": true,
    "deletable": true,
    "editable": true
   },
   "outputs": [],
   "source": [
    "# Useful Libraries\n",
    "import pandas as pd\n",
    "import numpy as np\n",
    "import matplotlib.pyplot as plt"
   ]
  },
  {
   "cell_type": "markdown",
   "metadata": {
    "deletable": true,
    "editable": true
   },
   "source": [
    "#### Data:"
   ]
  },
  {
   "cell_type": "code",
   "execution_count": 6,
   "metadata": {
    "collapsed": true,
    "deletable": true,
    "editable": true
   },
   "outputs": [],
   "source": [
    "X = np.random.randint(100, size = 100)"
   ]
  },
  {
   "cell_type": "markdown",
   "metadata": {
    "deletable": true,
    "editable": true
   },
   "source": [
    "---"
   ]
  },
  {
   "cell_type": "markdown",
   "metadata": {
    "deletable": true,
    "editable": true
   },
   "source": [
    "# Exercise 1: \n",
    "Using the skills aquired in the lecture series, find the following parameters of the list X above:\n",
    "- Range\n",
    "- Mean Absolute Deviation\n",
    "- Variance and Standard Deviation\n",
    "- Semivariance and Semideviation\n",
    "- Target variance (with B = 60)"
   ]
  },
  {
   "cell_type": "code",
   "execution_count": 8,
   "metadata": {
    "collapsed": false,
    "deletable": true,
    "editable": true
   },
   "outputs": [
    {
     "name": "stdout",
     "output_type": "stream",
     "text": [
      "Range of X: 99\n"
     ]
    }
   ],
   "source": [
    "# Range of X\n",
    "range_X = np.ptp(X)\n",
    "\n",
    "## Your code goes here\n",
    "print('Range of X: %s' %(range_X))"
   ]
  },
  {
   "cell_type": "code",
   "execution_count": 10,
   "metadata": {
    "collapsed": false,
    "deletable": true,
    "editable": true
   },
   "outputs": [
    {
     "name": "stdout",
     "output_type": "stream",
     "text": [
      "Mean absolute deviation of X: 22.080800000000004\n"
     ]
    }
   ],
   "source": [
    "# Mean Absolute Deviation\n",
    "# First calculate the value of mu (the mean)\n",
    "\n",
    "mu = np.mean(X)\n",
    "abs_deviations = [np.abs(x - mu) for x in X]\n",
    "MAD = np.sum(abs_deviations)/len(abs_deviations)\n",
    "\n",
    "## Your code goes here\n",
    "print('Mean absolute deviation of X:', MAD)"
   ]
  },
  {
   "cell_type": "code",
   "execution_count": 11,
   "metadata": {
    "collapsed": false,
    "deletable": true,
    "editable": true
   },
   "outputs": [
    {
     "name": "stdout",
     "output_type": "stream",
     "text": [
      "Variance of X: 681.3770999999998\n",
      "Standard deviation of X: 26.103200953139822\n"
     ]
    }
   ],
   "source": [
    "# Variance and standard deviation\n",
    "\n",
    "\n",
    "## Your code goes here\n",
    "\n",
    "print('Variance of X:', np.var(X))\n",
    "print('Standard deviation of X:', np.std(X))"
   ]
  },
  {
   "cell_type": "code",
   "execution_count": 22,
   "metadata": {
    "collapsed": false,
    "deletable": true,
    "editable": true
   },
   "outputs": [
    {
     "name": "stdout",
     "output_type": "stream",
     "text": [
      "Semivariance of X: 751.9858166666663\n",
      "Semideviation of X: 27.422359793910267\n"
     ]
    }
   ],
   "source": [
    "# Semivariance and semideviation\n",
    "lows = [n for n in X if n <= mu]\n",
    "semi_var = np.sum((lows - mu) ** 2)/ len(lows)\n",
    "semi_dev = np.sqrt(semi_var)\n",
    "\n",
    "## Your code goes here\n",
    "\n",
    "print('Semivariance of X:', semi_var)\n",
    "print('Semideviation of X:', semi_dev)"
   ]
  },
  {
   "cell_type": "code",
   "execution_count": null,
   "metadata": {
    "collapsed": false,
    "deletable": true,
    "editable": true
   },
   "outputs": [
    {
     "name": "stdout",
     "output_type": "stream",
     "text": [
      "Target semivariance of X: 96.28571428571429\n",
      "Target semideviation of X: 9.812528434899656\n"
     ]
    }
   ],
   "source": [
    "# Target semi variance\n",
    "B = 20\n",
    "B_lows = np.array([n for n in X if n <= B])\n",
    "target_semivar = np.sum((B_lows - B) ** 2) / len(B_lows)\n",
    "\n",
    "## Your code goes here\n",
    "\n",
    "print('Target semivariance of X:',target_semivar)\n",
    "print('Target semideviation of X:',np.sqrt(target_semivar))"
   ]
  },
  {
   "cell_type": "markdown",
   "metadata": {
    "deletable": true,
    "editable": true
   },
   "source": [
    "---"
   ]
  },
  {
   "cell_type": "markdown",
   "metadata": {
    "deletable": true,
    "editable": true
   },
   "source": [
    "# Exercise 2:\n",
    "Using the skills aquired in the lecture series, find the following parameters of prices for BX stock over a year:\n",
    "- 30 days rolling variance \n",
    "- 15 days rolling Standard Deviation"
   ]
  },
  {
   "cell_type": "code",
   "execution_count": 48,
   "metadata": {
    "collapsed": false,
    "deletable": true,
    "editable": true
   },
   "outputs": [
    {
     "name": "stderr",
     "output_type": "stream",
     "text": [
      "/tmp/ipykernel_26545/1338160994.py:5: FutureWarning: YF.download() has changed argument auto_adjust default to True\n",
      "  BX = yf.download('BX',start=start, end=end, )\n",
      "[*********************100%***********************]  1 of 1 completed\n"
     ]
    }
   ],
   "source": [
    "import yfinance as yf\n",
    "start = '2024-01-01'\n",
    "end='2025-08-03'\n",
    "\n",
    "BX = yf.download('BX',start=start, end=end, )\n",
    "BX_price = BX['Close']\n"
   ]
  },
  {
   "cell_type": "code",
   "execution_count": 49,
   "metadata": {
    "collapsed": false,
    "deletable": true,
    "editable": true
   },
   "outputs": [
    {
     "name": "stdout",
     "output_type": "stream",
     "text": [
      "Rolling mean:  Ticker              BX\n",
      "Date                  \n",
      "2025-07-29  157.599668\n",
      "2025-07-30  158.835668\n",
      "2025-07-31  160.078002\n",
      "2025-08-01  161.175002\n"
     ]
    }
   ],
   "source": [
    "# Rolling mean\n",
    "rolling_mean = BX_price.rolling(window=30).mean().dropna()\n",
    "\n",
    "## Your code goes here\n",
    "print('Rolling mean: ', rolling_mean.tail(4))"
   ]
  },
  {
   "cell_type": "code",
   "execution_count": 50,
   "metadata": {
    "collapsed": true,
    "deletable": true,
    "editable": true
   },
   "outputs": [
    {
     "name": "stdout",
     "output_type": "stream",
     "text": [
      "Rolling standard deviation:  Ticker            BX\n",
      "Date                \n",
      "2025-07-29  8.729670\n",
      "2025-07-30  8.493550\n",
      "2025-07-31  8.054729\n",
      "2025-08-01  7.548114\n"
     ]
    }
   ],
   "source": [
    "# Rolling standard deviation\n",
    "rolling_std = BX_price.rolling(window=20).std().dropna()\n",
    "\n",
    "## Your code goes here\n",
    "print('Rolling standard deviation: ', rolling_std.tail(4))"
   ]
  },
  {
   "cell_type": "markdown",
   "metadata": {
    "deletable": true,
    "editable": true
   },
   "source": [
    "---"
   ]
  },
  {
   "cell_type": "markdown",
   "metadata": {
    "deletable": true,
    "editable": true
   },
   "source": [
    "# Exercise 3 : \n",
    "The portfolio variance is calculated as\n",
    "\n",
    "$$\\text{VAR}_p = \\text{VAR}_{s1} (w_1^2) + \\text{VAR}_{s2}(w_2^2) + \\text{COV}_{S_1, S_2} (2 w_1 w_2)$$\n",
    "\n",
    "Where $w_1$ and $w_2$ are the weights of $S_1$ and $S_2$.\n",
    "\n",
    "Find values of $w_1$ and $w_2$ to have a portfolio variance of 50. "
   ]
  },
  {
   "cell_type": "code",
   "execution_count": null,
   "metadata": {
    "collapsed": false,
    "deletable": true,
    "editable": true
   },
   "outputs": [],
   "source": [
    "BLK = yf.download('BLK', start=start, end=end)\n",
    "BLK_price = BLK['Close']\n",
    "\n",
    "cov = np.cov(BX, BLK)[0,1]\n",
    "\n",
    "w1 = ## Your code goes here.\n",
    "w2 = 1 - w1\n",
    "\n",
    "v1 = np.var(asset1)\n",
    "v2 = np.var(asset2)\n",
    "\n",
    "pvariance = (w1**2)*v1+(w2**2)*v2+(2*w1*w2)*cov\n",
    "\n",
    "print 'Portfolio variance: ', pvariance"
   ]
  },
  {
   "cell_type": "markdown",
   "metadata": {
    "deletable": true,
    "editable": true
   },
   "source": [
    "---\n",
    "\n",
    "Congratulations on completing the Variance exercises!\n",
    "\n",
    "As you learn more about writing trading models and the Quantopian platform, enter a daily [Quantopian Contest](https://www.quantopian.com/contest). Your strategy will be evaluated for a cash prize every day.\n",
    "\n",
    "Start by going through the [Writing a Contest Algorithm](https://www.quantopian.com/tutorials/contest) tutorial."
   ]
  },
  {
   "cell_type": "markdown",
   "metadata": {
    "deletable": true,
    "editable": true
   },
   "source": [
    "*This presentation is for informational purposes only and does not constitute an offer to sell, a solicitation to buy, or a recommendation for any security; nor does it constitute an offer to provide investment advisory or other services by Quantopian, Inc. (\"Quantopian\"). Nothing contained herein constitutes investment advice or offers any opinion with respect to the suitability of any security, and any views expressed herein should not be taken as advice to buy, sell, or hold any security or as an endorsement of any security or company.  In preparing the information contained herein, Quantopian, Inc. has not taken into account the investment needs, objectives, and financial circumstances of any particular investor. Any views expressed and data illustrated herein were prepared based upon information, believed to be reliable, available to Quantopian, Inc. at the time of publication. Quantopian makes no guarantees as to their accuracy or completeness. All information is subject to change and may quickly become unreliable for various reasons, including changes in market conditions or economic circumstances.*"
   ]
  }
 ],
 "metadata": {
  "kernelspec": {
   "display_name": "venv",
   "language": "python",
   "name": "python3"
  },
  "language_info": {
   "codemirror_mode": {
    "name": "ipython",
    "version": 3
   },
   "file_extension": ".py",
   "mimetype": "text/x-python",
   "name": "python",
   "nbconvert_exporter": "python",
   "pygments_lexer": "ipython3",
   "version": "3.12.3"
  }
 },
 "nbformat": 4,
 "nbformat_minor": 2
}
