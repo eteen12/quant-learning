{
 "cells": [
  {
   "cell_type": "markdown",
   "metadata": {},
   "source": [
    "# Exercises: Means \n",
    "By Christopher van Hoecke and Max Margenot\n",
    "\n",
    "## Lecture Link :\n",
    "https://www.quantopian.com/lectures/means\n",
    "\n",
    "### IMPORTANT NOTE: \n",
    "This lecture corresponds to the Means lecture, which is part of the Quantopian lecture series. This homework expects you to rely heavily on the code presented in the corresponding lecture. Please copy and paste regularly from that lecture when starting to work on the problems, as trying to do them from scratch will likely be too difficult.\n",
    "\n",
    "Part of the Quantopian Lecture Series:\n",
    "\n",
    "* [www.quantopian.com/lectures](https://www.quantopian.com/lectures)\n",
    "* [github.com/quantopian/research_public](https://github.com/quantopian/research_public)\n",
    "\n",
    "----"
   ]
  },
  {
   "cell_type": "markdown",
   "metadata": {},
   "source": [
    "## Key Concepts"
   ]
  },
  {
   "cell_type": "code",
   "execution_count": 2,
   "metadata": {},
   "outputs": [],
   "source": [
    "# Useful Functions\n",
    "def mode(l):\n",
    "    # Count the number of times each element appears in the list\n",
    "    counts = {}\n",
    "    for e in l:\n",
    "        if e in counts:\n",
    "            counts[e] += 1\n",
    "        else:\n",
    "            counts[e] = 1\n",
    "            \n",
    "    # Return the elements that appear the most times\n",
    "    maxcount = 0\n",
    "    modes = {}\n",
    "    for (key, value) in counts.items():\n",
    "        if value > maxcount:\n",
    "            maxcount = value\n",
    "            modes = {key}\n",
    "        elif value == maxcount:\n",
    "            modes.add(key)\n",
    "            \n",
    "    if maxcount > 1 or len(l) == 1:\n",
    "        return list(modes)\n",
    "    return 'No mode'"
   ]
  },
  {
   "cell_type": "code",
   "execution_count": 3,
   "metadata": {},
   "outputs": [],
   "source": [
    "# Useful Libraries\n",
    "import scipy.stats as stats\n",
    "import numpy as np\n",
    "import yfinance as yf"
   ]
  },
  {
   "cell_type": "markdown",
   "metadata": {},
   "source": [
    "#### Data:"
   ]
  },
  {
   "cell_type": "code",
   "execution_count": 4,
   "metadata": {},
   "outputs": [],
   "source": [
    "l=[]\n",
    "for x in range(1,100):\n",
    "    x=np.random.randint(1,100)\n",
    "    l.append(x)"
   ]
  },
  {
   "cell_type": "markdown",
   "metadata": {},
   "source": [
    "----"
   ]
  },
  {
   "cell_type": "markdown",
   "metadata": {},
   "source": [
    "# Exercise 1 : Arithmetic mean.\n",
    "## a. Mean of random data set.\n",
    "Find the mean of the randomly generated data set `l`. "
   ]
  },
  {
   "cell_type": "code",
   "execution_count": 5,
   "metadata": {},
   "outputs": [
    {
     "name": "stdout",
     "output_type": "stream",
     "text": [
      "Mean of l 45.2020202020202\n"
     ]
    }
   ],
   "source": [
    "## Your code goes here       \n",
    "print('Mean of l',np.mean(l))"
   ]
  },
  {
   "cell_type": "markdown",
   "metadata": {},
   "source": [
    "## b. Mean of returns\n",
    "Find the mean of the returns of Blackstone (BX)."
   ]
  },
  {
   "cell_type": "code",
   "execution_count": 6,
   "metadata": {},
   "outputs": [
    {
     "name": "stderr",
     "output_type": "stream",
     "text": [
      "/tmp/ipykernel_29544/2092770111.py:1: FutureWarning: YF.download() has changed argument auto_adjust default to True\n",
      "  price_data = yf.download('BX', start='2005-01-01',end='2010-01-01')\n",
      "[*********************100%***********************]  1 of 1 completed"
     ]
    },
    {
     "name": "stdout",
     "output_type": "stream",
     "text": [
      "Mean of BX: 6.264426535779529e-05\n"
     ]
    },
    {
     "name": "stderr",
     "output_type": "stream",
     "text": [
      "\n"
     ]
    }
   ],
   "source": [
    "price_data = yf.download('BX', start='2005-01-01',end='2010-01-01')\n",
    "price = price_data['Close']\n",
    "returns = price.pct_change().dropna()\n",
    "\n",
    "## Your code goes here.\n",
    "print('Mean of BX:', np.mean(returns))"
   ]
  },
  {
   "cell_type": "markdown",
   "metadata": {},
   "source": [
    "---"
   ]
  },
  {
   "cell_type": "markdown",
   "metadata": {},
   "source": [
    "# Exercise 2 : Median\n",
    "## a. Median of random data set\n",
    "Find the median of the randomly generated data set `l`."
   ]
  },
  {
   "cell_type": "code",
   "execution_count": 7,
   "metadata": {},
   "outputs": [
    {
     "name": "stdout",
     "output_type": "stream",
     "text": [
      "Median of l 39.0\n"
     ]
    }
   ],
   "source": [
    "## Your code goes here   \n",
    "print('Median of l', np.median(l))"
   ]
  },
  {
   "cell_type": "markdown",
   "metadata": {},
   "source": [
    "## b. Median of the returns.\n",
    "Find the median associated with the returns of Blackrock. (BLK)."
   ]
  },
  {
   "cell_type": "code",
   "execution_count": 8,
   "metadata": {},
   "outputs": [
    {
     "name": "stderr",
     "output_type": "stream",
     "text": [
      "/tmp/ipykernel_29544/1267880522.py:1: FutureWarning: YF.download() has changed argument auto_adjust default to True\n",
      "  price_data = yf.download('BX', start='2020-01-01',end='2025-01-01')\n",
      "[*********************100%***********************]  1 of 1 completed"
     ]
    },
    {
     "name": "stdout",
     "output_type": "stream",
     "text": [
      "Median for the returns of BLK:  0.002060307016483076\n"
     ]
    },
    {
     "name": "stderr",
     "output_type": "stream",
     "text": [
      "\n"
     ]
    }
   ],
   "source": [
    "price_data = yf.download('BX', start='2020-01-01',end='2025-01-01')\n",
    "price = price_data['Close']\n",
    "returns = price.pct_change().dropna()\n",
    "\n",
    "## Your code goes here\n",
    "print('Median for the returns of BLK: ', np.median(returns))"
   ]
  },
  {
   "cell_type": "markdown",
   "metadata": {},
   "source": [
    "----"
   ]
  },
  {
   "cell_type": "markdown",
   "metadata": {},
   "source": [
    "# Exercise 3 : Mode\n",
    "## a. Mode of a random data set. \n",
    "Find the mode of the random generated data set `l`."
   ]
  },
  {
   "cell_type": "code",
   "execution_count": 9,
   "metadata": {},
   "outputs": [
    {
     "name": "stdout",
     "output_type": "stream",
     "text": [
      "Mode of l [38, 7]\n"
     ]
    }
   ],
   "source": [
    "## Your code goes here\n",
    "print('Mode of l', mode(l))"
   ]
  },
  {
   "cell_type": "markdown",
   "metadata": {},
   "source": [
    "## b. Mode of the returns. \n",
    "Find the mode associated with the returns of Goldman Sachs Corp. (GS). *Recall with returns, there may not be any values that appear more than once.*"
   ]
  },
  {
   "cell_type": "code",
   "execution_count": 10,
   "metadata": {},
   "outputs": [
    {
     "name": "stderr",
     "output_type": "stream",
     "text": [
      "/tmp/ipykernel_29544/3151910643.py:3: FutureWarning: YF.download() has changed argument auto_adjust default to True\n",
      "  get_data = yf.download('GS', start=start, end=end)\n",
      "[*********************100%***********************]  1 of 1 completed\n"
     ]
    },
    {
     "name": "stdout",
     "output_type": "stream",
     "text": [
      "Mode of Goldman:  No mode\n",
      "[  3   1   2   3   4  19  85 299 469 268  70  18  11   1   1   0   0   2\n",
      "   0   1]\n",
      "Mode of GS returns:  [(np.float64(-0.005910645104479029), np.float64(0.009232150437333886))]\n"
     ]
    }
   ],
   "source": [
    "start = '2020-01-01'\n",
    "end = '2025-01-01'\n",
    "get_data = yf.download('GS', start=start, end=end)\n",
    "pricing = get_data['Close']\n",
    "returns = pricing.pct_change().dropna()\n",
    "\n",
    "## Your code goes here\n",
    "print('Mode of Goldman: ', mode(returns))\n",
    "hist,bins = np.histogram(returns,20) ## hist holds the count of the numbers that fell into the bin, the bins var holds the edges\n",
    "maxfreq = max(hist)\n",
    "\n",
    "print(hist)\n",
    "mode_bin = [(bins[i], bins[i+1]) for i, count in enumerate(hist) if count == maxfreq]\n",
    "## for each bin where the count = maxfreq, give me the edges of that bin as a tuple\n",
    "print('Mode of GS returns: ', mode_bin)\n",
    "\n"
   ]
  },
  {
   "cell_type": "markdown",
   "metadata": {},
   "source": [
    "----"
   ]
  },
  {
   "cell_type": "markdown",
   "metadata": {},
   "source": [
    "# Exercise 4 : Geometric mean\n",
    "## a. Geometric Mean of random data set.\n",
    "Find the Geometric mean of the random generated data set."
   ]
  },
  {
   "cell_type": "code",
   "execution_count": 11,
   "metadata": {},
   "outputs": [
    {
     "name": "stdout",
     "output_type": "stream",
     "text": [
      "Geo mean for l 34.22926351902917\n"
     ]
    }
   ],
   "source": [
    "## Your code goes here\n",
    "print('Geo mean for l', stats.gmean(l))\n"
   ]
  },
  {
   "cell_type": "markdown",
   "metadata": {},
   "source": [
    "## b. Geometric Mean of returns. \n",
    "Find the Geometric Mean of the price of Citi bank (C) for the last 5 years. "
   ]
  },
  {
   "cell_type": "code",
   "execution_count": 12,
   "metadata": {},
   "outputs": [
    {
     "name": "stdout",
     "output_type": "stream",
     "text": [
      "Geo mean for GS:  0.0008085321698720891\n"
     ]
    }
   ],
   "source": [
    "## Your code goes here\n",
    "gross_returns = returns + 1\n",
    "real_returns = stats.gmean(gross_returns) -1\n",
    "print('Geo mean for GS: ', stats.gmean(real_returns))"
   ]
  },
  {
   "cell_type": "markdown",
   "metadata": {},
   "source": [
    "---"
   ]
  },
  {
   "cell_type": "markdown",
   "metadata": {},
   "source": [
    "# Exercise 5 : Harmonic mean.\n",
    "## a. Harmonic Mean of random data set. \n",
    "Find the harmonic mean of the randomly generated data set `l`."
   ]
  },
  {
   "cell_type": "code",
   "execution_count": 13,
   "metadata": {},
   "outputs": [
    {
     "name": "stdout",
     "output_type": "stream",
     "text": [
      "Hmean for l:  18.462934630154514\n"
     ]
    }
   ],
   "source": [
    "## Your code goes here \n",
    "print('Hmean for l: ', stats.hmean(l))"
   ]
  },
  {
   "cell_type": "markdown",
   "metadata": {},
   "source": [
    "## b. Harmonic Mean of stock returns.\n",
    "Find the Harmonic Mean of Blackstone (BX) over the last 2 years."
   ]
  },
  {
   "cell_type": "code",
   "execution_count": 14,
   "metadata": {
    "scrolled": true
   },
   "outputs": [
    {
     "name": "stdout",
     "output_type": "stream",
     "text": [
      "Harmonic mean of BX:  0.0008085321698720893\n"
     ]
    }
   ],
   "source": [
    "## Your code goes here\n",
    "\n",
    "print('Harmonic mean of BX: ', stats.hmean(real_returns) )\n"
   ]
  },
  {
   "cell_type": "markdown",
   "metadata": {},
   "source": [
    "----"
   ]
  },
  {
   "cell_type": "markdown",
   "metadata": {},
   "source": [
    "# Exercise 6 : Skewness and why it matters.\n",
    "Skewness in a probability distribution is the measure of asymmetry. Negative skew has fewer low values and a longer left tail, whereas positive skew has fewer high values and a longer right tail.\n",
    "In asset pricing, skewness is an important information, naimly in risk assessment. Knowledge that the market has a 60% chance of going down and a 40% chance of going up apears helpfull but only if we know the market is obeying a normal distrubtuion. If we are told that the market will go up 2% but down 18%, we can see how skewness would give us better information.\n",
    "\n",
    "Determine if the returns of SPY from 2010 to 2017 is positivly or negativly skewed. \n",
    "*Recall a data set is positivly skewed if the mode is smaller than the median, which is smaller than the mean. A data set is negativly skewed in the event of the reverse (i.e: the mean is greater than the median, which is greater than the mode)*"
   ]
  },
  {
   "cell_type": "code",
   "execution_count": 15,
   "metadata": {
    "scrolled": false
   },
   "outputs": [
    {
     "name": "stderr",
     "output_type": "stream",
     "text": [
      "/tmp/ipykernel_29544/3438707201.py:1: FutureWarning: YF.download() has changed argument auto_adjust default to True\n",
      "  SPY = yf.download('SPY', start='2010-01-01', end='2017-01-01')\n",
      "[*********************100%***********************]  1 of 1 completed"
     ]
    },
    {
     "name": "stdout",
     "output_type": "stream",
     "text": [
      "0.0016607526664274286 0.0004140663445302284\n",
      "Positive skewness\n"
     ]
    },
    {
     "name": "stderr",
     "output_type": "stream",
     "text": [
      "\n"
     ]
    }
   ],
   "source": [
    "SPY = yf.download('SPY', start='2010-01-01', end='2017-01-01')\n",
    "price = get_data['Close']\n",
    "returns = price.pct_change().dropna()\n",
    "\n",
    "hist, bins = np.histogram(returns, 20)\n",
    "maxfreq = max(hist)\n",
    "mode = [(bins[i], bins[i+1]) for i,count in enumerate(hist) if count == maxfreq]\n",
    "real_mode = np.mean(mode)\n",
    "\n",
    "median = np.median(returns)\n",
    "print(real_mode, median)\n",
    "\n",
    "if real_mode >= median:\n",
    "    print('Positive skewness')\n",
    "elif real_mode < median:\n",
    "    print('Negative skewness')\n",
    "\n",
    "## Your code goes here"
   ]
  },
  {
   "cell_type": "markdown",
   "metadata": {},
   "source": [
    "We can clearly see positive skewing from the histogram of the returns. We see fewer higher values and a longer right tail.\n",
    "Plot the histograms of the returns now."
   ]
  },
  {
   "cell_type": "code",
   "execution_count": 16,
   "metadata": {
    "collapsed": true
   },
   "outputs": [
    {
     "ename": "NameError",
     "evalue": "name 'plt' is not defined",
     "output_type": "error",
     "traceback": [
      "\u001b[31m---------------------------------------------------------------------------\u001b[39m",
      "\u001b[31mNameError\u001b[39m                                 Traceback (most recent call last)",
      "\u001b[36mCell\u001b[39m\u001b[36m \u001b[39m\u001b[32mIn[16]\u001b[39m\u001b[32m, line 2\u001b[39m\n\u001b[32m      1\u001b[39m \u001b[38;5;66;03m## Your code here\u001b[39;00m\n\u001b[32m----> \u001b[39m\u001b[32m2\u001b[39m \u001b[43mplt\u001b[49m.hist(returns,\u001b[32m50\u001b[39m)\n\u001b[32m      3\u001b[39m plt.xlabel(\u001b[33m'\u001b[39m\u001b[33mDaily returns\u001b[39m\u001b[33m'\u001b[39m)\n\u001b[32m      4\u001b[39m plt.ylabel(\u001b[33m'\u001b[39m\u001b[33mFrequency\u001b[39m\u001b[33m'\u001b[39m)\n",
      "\u001b[31mNameError\u001b[39m: name 'plt' is not defined"
     ]
    }
   ],
   "source": [
    "## Your code here\n",
    "plt.hist(returns,50)\n",
    "plt.xlabel('Daily returns')\n",
    "plt.ylabel('Frequency')\n",
    "plt.title('History of returns')"
   ]
  },
  {
   "cell_type": "markdown",
   "metadata": {},
   "source": [
    "---\n",
    "\n",
    "Congratulations on completing the Means exercises!\n",
    "\n",
    "As you learn more about writing trading algorithms and the Quantopian platform, be sure to check out the daily [Quantopian Contest](https://www.quantopian.com/contest), in which you can compete for a cash prize every day.\n",
    "\n",
    "Start by going through the [Writing a Contest Algorithm](https://www.quantopian.com/tutorials/contest) tutorial."
   ]
  },
  {
   "cell_type": "markdown",
   "metadata": {},
   "source": [
    "*This presentation is for informational purposes only and does not constitute an offer to sell, a solicitation to buy, or a recommendation for any security; nor does it constitute an offer to provide investment advisory or other services by Quantopian, Inc. (\"Quantopian\"). Nothing contained herein constitutes investment advice or offers any opinion with respect to the suitability of any security, and any views expressed herein should not be taken as advice to buy, sell, or hold any security or as an endorsement of any security or company.  In preparing the information contained herein, Quantopian, Inc. has not taken into account the investment needs, objectives, and financial circumstances of any particular investor. Any views expressed and data illustrated herein were prepared based upon information, believed to be reliable, available to Quantopian, Inc. at the time of publication. Quantopian makes no guarantees as to their accuracy or completeness. All information is subject to change and may quickly become unreliable for various reasons, including changes in market conditions or economic circumstances.*"
   ]
  }
 ],
 "metadata": {
  "kernelspec": {
   "display_name": "venv",
   "language": "python",
   "name": "python3"
  },
  "language_info": {
   "codemirror_mode": {
    "name": "ipython",
    "version": 3
   },
   "file_extension": ".py",
   "mimetype": "text/x-python",
   "name": "python",
   "nbconvert_exporter": "python",
   "pygments_lexer": "ipython3",
   "version": "3.12.3"
  }
 },
 "nbformat": 4,
 "nbformat_minor": 2
}
